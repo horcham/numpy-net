{
 "cells": [
  {
   "cell_type": "code",
   "execution_count": 49,
   "metadata": {
    "collapsed": true
   },
   "outputs": [],
   "source": [
    "def im2col(X, filter, stride=1, padH=0, padW=0):\n",
    "    N, C, H, W = X.shape\n",
    "    filter_h, filter_w, filter_c, filter_c2 = filter.shape\n",
    "    out_h = (H + 2 * padH - filter_h) // stride + 1\n",
    "    out_w = (W + 2 * padW - filter_w) // stride + 1\n",
    "    img = np.pad(X, [(0, 0), (0, 0), (padH, padH), (padW, padW)], 'constant')\n",
    "    cols = np.zeros([N, C, filter_h * filter_w, out_h * out_w])\n",
    "    for h in range(filter_h):\n",
    "        h_max = h + stride * out_h\n",
    "        for w in range(filter_w):\n",
    "            w_max = w + stride * out_w\n",
    "            crop = img[:, :, h:h_max:stride, w:w_max:stride]\n",
    "            crop = crop.reshape([img.shape[0], img.shape[1], -1])\n",
    "            cols[:, :, h, :] = crop\n",
    "    cols = cols.reshape([cols.shape[0],cols.shape[1] * cols.shape[2], -1])\n",
    "    cols = cols.transpose([0,2,1])\n",
    "    return cols\n",
    "\n",
    "def conv2d(X, filter, padding='valid', stride=1, pad=0):\n",
    "    N, C, H, W = X.shape\n",
    "    filter_h, filter_w, filter_c, filter_c2 = filter.shape\n",
    "    if padding == 'valid':\n",
    "        padH, padW = pad, pad\n",
    "    elif padding == 'same':\n",
    "        padH = ((H - 1) * (stride - 1) + filter_h - 1) // 2\n",
    "        padW = ((W - 1) * (stride - 1) + filter_w - 1) // 2\n",
    "    else:\n",
    "        raise ValueError('padding value error')\n",
    "    \n",
    "    out_h = (H + 2 * padH - filter_h) // stride + 1\n",
    "    out_w = (W + 2 * padW - filter_w) // stride + 1\n",
    "    colX = im2col(X, filter, stride, padH, padW)\n",
    "    print(colX.shape)\n",
    "    colFilter = np.reshape(filter, [-1, filter.shape[3]])\n",
    "    print(colFilter.shape)\n",
    "    y = np.dot(colX, colFilter)\n",
    "    y = np.transpose(y, [0, 2, 1])\n",
    "    print(y.shape)\n",
    "    y = y.reshape([y.shape[0], y.shape[1], out_h, out_w])\n",
    "    \n",
    "    \n",
    "    _w = np.reshape(filter, (filter.shape[0]*filter.shape[1]*filter.shape[2], filter.shape[3]))\n",
    "    print(_w.shape)\n",
    "    _colX = np.expand_dims(colX, 3)\n",
    "    for i in range(_w.shape[1]):\n",
    "        print(i)\n",
    "        _wi = np.expand_dims(_w[:, i], 0)\n",
    "        print('!', np.dot(_colX, _wi).shape)\n",
    "        \n",
    "    #print(_colX.shape)\n",
    "    #print(np.dot(_colX, _w).shape)\n",
    "    \n",
    "    return y\n",
    "    \n",
    "def gradient_check(op, X, w, delta=1e-5):\n",
    "    y1 = op(X, w)\n",
    "    y2 = op(X, w+delta)\n",
    "    print((y2 - y1) / delta)\n",
    "    \n",
    "    "
   ]
  },
  {
   "cell_type": "code",
   "execution_count": 50,
   "metadata": {
    "collapsed": true
   },
   "outputs": [
    {
     "name": "stdout",
     "output_type": "stream",
     "text": [
      "(100, 2500, 27)\n",
      "(27, 64)\n",
      "(100, 64, 2500)\n",
      "(27, 64)\n",
      "0\n",
      "('!', (100, 2500, 27, 27))\n",
      "1\n",
      "('!', (100, 2500, 27, 27))\n",
      "2\n",
      "('!', (100, 2500, 27, 27))\n",
      "3\n",
      "('!', (100, 2500, 27, 27))\n",
      "4\n",
      "('!', (100, 2500, 27, 27))\n",
      "5\n",
      "('!', (100, 2500, 27, 27))\n",
      "6\n",
      "('!', (100, 2500, 27, 27))\n",
      "7\n",
      "('!', (100, 2500, 27, 27))\n",
      "8\n",
      "('!', (100, 2500, 27, 27))\n",
      "9\n",
      "('!', (100, 2500, 27, 27))\n",
      "10\n",
      "('!', (100, 2500, 27, 27))\n",
      "11\n",
      "('!', (100, 2500, 27, 27))\n",
      "12\n",
      "('!', (100, 2500, 27, 27))\n",
      "13\n",
      "('!', (100, 2500, 27, 27))\n",
      "14\n",
      "('!', (100, 2500, 27, 27))\n",
      "15\n",
      "('!', (100, 2500, 27, 27))\n",
      "16\n",
      "('!', (100, 2500, 27, 27))\n",
      "17\n",
      "('!', (100, 2500, 27, 27))\n",
      "18\n",
      "('!', (100, 2500, 27, 27))\n",
      "19\n",
      "('!', (100, 2500, 27, 27))\n",
      "20\n",
      "('!', (100, 2500, 27, 27))\n",
      "21\n",
      "('!', (100, 2500, 27, 27))\n",
      "22\n",
      "('!', (100, 2500, 27, 27))\n",
      "23\n",
      "('!', (100, 2500, 27, 27))\n",
      "24\n",
      "('!', (100, 2500, 27, 27))\n",
      "25\n",
      "('!', (100, 2500, 27, 27))\n",
      "26\n",
      "('!', (100, 2500, 27, 27))\n",
      "27\n",
      "('!', (100, 2500, 27, 27))\n",
      "28\n",
      "('!', (100, 2500, 27, 27))\n",
      "29\n",
      "('!', (100, 2500, 27, 27))\n",
      "30\n",
      "('!', (100, 2500, 27, 27))\n",
      "31\n",
      "('!', (100, 2500, 27, 27))\n",
      "32\n",
      "('!', (100, 2500, 27, 27))\n",
      "33\n",
      "('!', (100, 2500, 27, 27))\n",
      "34\n",
      "('!', (100, 2500, 27, 27))\n",
      "35\n",
      "('!', (100, 2500, 27, 27))\n",
      "36\n",
      "('!', (100, 2500, 27, 27))\n",
      "37\n",
      "('!', (100, 2500, 27, 27))\n",
      "38\n",
      "('!', (100, 2500, 27, 27))\n",
      "39\n",
      "('!', (100, 2500, 27, 27))\n",
      "40\n",
      "('!', (100, 2500, 27, 27))\n",
      "41\n",
      "('!', (100, 2500, 27, 27))\n",
      "42\n",
      "('!', (100, 2500, 27, 27))\n",
      "43\n",
      "('!', (100, 2500, 27, 27))\n",
      "44\n",
      "('!', (100, 2500, 27, 27))\n",
      "45\n",
      "('!', (100, 2500, 27, 27))\n",
      "46\n",
      "('!', (100, 2500, 27, 27))\n",
      "47\n",
      "('!', (100, 2500, 27, 27))\n",
      "48\n",
      "('!', (100, 2500, 27, 27))\n",
      "49\n",
      "('!', (100, 2500, 27, 27))\n",
      "50\n",
      "('!', (100, 2500, 27, 27))\n",
      "51\n",
      "('!', (100, 2500, 27, 27))\n",
      "52\n",
      "('!', (100, 2500, 27, 27))\n",
      "53\n",
      "('!', (100, 2500, 27, 27))\n",
      "54\n",
      "('!', (100, 2500, 27, 27))\n",
      "55\n",
      "('!', (100, 2500, 27, 27))\n",
      "56\n",
      "('!', (100, 2500, 27, 27))\n",
      "57\n",
      "('!', (100, 2500, 27, 27))\n",
      "58\n",
      "('!', (100, 2500, 27, 27))\n",
      "59\n",
      "('!', (100, 2500, 27, 27))\n",
      "60\n",
      "('!', (100, 2500, 27, 27))\n",
      "61\n",
      "('!', (100, 2500, 27, 27))\n",
      "62\n",
      "('!', (100, 2500, 27, 27))\n",
      "63\n",
      "('!', (100, 2500, 27, 27))\n",
      "(100, 64, 50, 50)\n"
     ]
    }
   ],
   "source": [
    "import numpy as np\n",
    "\n",
    "X = np.random.random([100,3,50,50])\n",
    "w = np.random.random([3,3,3,64])\n",
    "#col = im2col2(X,w)\n",
    "y = conv2d(X, w, padding='same')\n",
    "#gradient_check(conv2d, X, w)\n",
    "print(y.shape)"
   ]
  },
  {
   "cell_type": "code",
   "execution_count": 53,
   "metadata": {
    "collapsed": false
   },
   "outputs": [
    {
     "name": "stdout",
     "output_type": "stream",
     "text": [
      "(16L,)\n"
     ]
    }
   ],
   "source": [
    "a = np.random.random([4,4])\n",
    "a = a.flatten()\n",
    "print(a.shape)"
   ]
  },
  {
   "cell_type": "code",
   "execution_count": 31,
   "metadata": {
    "collapsed": false
   },
   "outputs": [
    {
     "name": "stdout",
     "output_type": "stream",
     "text": [
      "(100, 50)\n"
     ]
    }
   ],
   "source": [
    "X = np.random.random([100,3])\n",
    "w = np.random.random([3,50])\n",
    "y = np.dot(X, w)\n",
    "print(y.shape)"
   ]
  },
  {
   "cell_type": "code",
   "execution_count": 6,
   "metadata": {
    "collapsed": true
   },
   "outputs": [],
   "source": [
    "def im2col(X, filter, stride=1, padH=0, padW=0):\n",
    "    N, C, H, W = X.shape\n",
    "    filter_h, filter_w, filter_c, filter_c2 = filter.shape\n",
    "    out_h = (H + 2 * padH - filter_h) // stride + 1\n",
    "    out_w = (W + 2 * padW - filter_w) // stride + 1\n",
    "    img = np.pad(X, [(0, 0), (0, 0), (padH, padH), (padW, padW)], 'constant')\n",
    "    cols = np.zeros([N, C, filter_h * filter_w, out_h * out_w])\n",
    "    for h in range(filter_h):\n",
    "        h_max = h + stride * out_h\n",
    "        for w in range(filter_w):\n",
    "            w_max = w + stride * out_w\n",
    "            crop = img[:, :, h:h_max:stride, w:w_max:stride]\n",
    "            #print(crop)\n",
    "            crop = crop.reshape([img.shape[0], img.shape[1], -1])\n",
    "            cols[:, :, h*filter_w + w, :] = crop\n",
    "    cols = cols.reshape([cols.shape[0],cols.shape[1] * cols.shape[2], -1])\n",
    "    cols = cols.transpose([0,2,1])\n",
    "    return cols\n",
    "\n",
    "\n",
    "def col2im(X, filter, image_size, stride=1):\n",
    "    out_N, out_C, out_H, out_W = image_size\n",
    "    filter_h, filter_w, filter_c, filter_c2 = filter.shape\n",
    "    img = np.zeros(image_size)\n",
    "    weight = np.zeros(image_size)\n",
    "    \n",
    "    X = X.transpose([0,2,1])\n",
    "    X = X.reshape([X.shape[0], out_C, X.shape[1]/out_C, X.shape[2]])\n",
    "    k = 0\n",
    "    for h in range(0, img.shape[2]-filter_h+1, stride):\n",
    "        for w in range(0, img.shape[3]-filter_w+1, stride):\n",
    "            #print(img[:, :, h:h+filter_h, w:w+filter_w].shape)\n",
    "            #print(X[:,:,:,0].shape)\n",
    "            img[:, :, h:h+filter_h, w:w+filter_w] += X[:,:,:,k].reshape([X.shape[0], X.shape[1], filter_h, filter_w])\n",
    "            weight[:, :, h:h+filter_h, w:w+filter_w] += np.ones(([X.shape[0], X.shape[1], filter_h, filter_w]))\n",
    "            k += 1\n",
    "    return img / weight\n",
    "        \n"
   ]
  },
  {
   "cell_type": "code",
   "execution_count": 13,
   "metadata": {
    "collapsed": false
   },
   "outputs": [
    {
     "name": "stdout",
     "output_type": "stream",
     "text": [
      "(5, 100, 9)\n"
     ]
    },
    {
     "ename": "ValueError",
     "evalue": "total size of new array must be unchanged",
     "output_type": "error",
     "traceback": [
      "\u001b[0;31m---------------------------------------------------------------------------\u001b[0m",
      "\u001b[0;31mValueError\u001b[0m                                Traceback (most recent call last)",
      "\u001b[0;32m<ipython-input-13-b476218b207e>\u001b[0m in \u001b[0;36m<module>\u001b[0;34m()\u001b[0m\n\u001b[1;32m      5\u001b[0m \u001b[0mcol\u001b[0m \u001b[0;34m=\u001b[0m \u001b[0mim2col\u001b[0m\u001b[0;34m(\u001b[0m\u001b[0mX\u001b[0m\u001b[0;34m,\u001b[0m\u001b[0mw\u001b[0m\u001b[0;34m,\u001b[0m\u001b[0mstride\u001b[0m\u001b[0;34m=\u001b[0m\u001b[0;36m1\u001b[0m\u001b[0;34m,\u001b[0m \u001b[0mpadH\u001b[0m\u001b[0;34m=\u001b[0m\u001b[0;36m1\u001b[0m\u001b[0;34m,\u001b[0m \u001b[0mpadW\u001b[0m\u001b[0;34m=\u001b[0m\u001b[0;36m1\u001b[0m\u001b[0;34m)\u001b[0m\u001b[0;34m\u001b[0m\u001b[0m\n\u001b[1;32m      6\u001b[0m \u001b[0;32mprint\u001b[0m\u001b[0;34m(\u001b[0m\u001b[0mcol\u001b[0m\u001b[0;34m.\u001b[0m\u001b[0mshape\u001b[0m\u001b[0;34m)\u001b[0m\u001b[0;34m\u001b[0m\u001b[0m\n\u001b[0;32m----> 7\u001b[0;31m \u001b[0mimg\u001b[0m \u001b[0;34m=\u001b[0m \u001b[0mcol2im\u001b[0m\u001b[0;34m(\u001b[0m\u001b[0mcol\u001b[0m\u001b[0;34m,\u001b[0m \u001b[0mw\u001b[0m\u001b[0;34m,\u001b[0m \u001b[0;34m[\u001b[0m\u001b[0;36m1\u001b[0m\u001b[0;34m,\u001b[0m\u001b[0;36m40\u001b[0m\u001b[0;34m,\u001b[0m\u001b[0;36m50\u001b[0m\u001b[0;34m,\u001b[0m\u001b[0;36m50\u001b[0m\u001b[0;34m]\u001b[0m\u001b[0;34m)\u001b[0m\u001b[0;34m\u001b[0m\u001b[0m\n\u001b[0m\u001b[1;32m      8\u001b[0m \u001b[0;32mprint\u001b[0m\u001b[0;34m(\u001b[0m\u001b[0mimg\u001b[0m\u001b[0;34m.\u001b[0m\u001b[0mshape\u001b[0m\u001b[0;34m)\u001b[0m\u001b[0;34m\u001b[0m\u001b[0m\n",
      "\u001b[0;32m<ipython-input-6-3c31abbf29c8>\u001b[0m in \u001b[0;36mcol2im\u001b[0;34m(X, filter, image_size, stride)\u001b[0m\n\u001b[1;32m     26\u001b[0m \u001b[0;34m\u001b[0m\u001b[0m\n\u001b[1;32m     27\u001b[0m     \u001b[0mX\u001b[0m \u001b[0;34m=\u001b[0m \u001b[0mX\u001b[0m\u001b[0;34m.\u001b[0m\u001b[0mtranspose\u001b[0m\u001b[0;34m(\u001b[0m\u001b[0;34m[\u001b[0m\u001b[0;36m0\u001b[0m\u001b[0;34m,\u001b[0m\u001b[0;36m2\u001b[0m\u001b[0;34m,\u001b[0m\u001b[0;36m1\u001b[0m\u001b[0;34m]\u001b[0m\u001b[0;34m)\u001b[0m\u001b[0;34m\u001b[0m\u001b[0m\n\u001b[0;32m---> 28\u001b[0;31m     \u001b[0mX\u001b[0m \u001b[0;34m=\u001b[0m \u001b[0mX\u001b[0m\u001b[0;34m.\u001b[0m\u001b[0mreshape\u001b[0m\u001b[0;34m(\u001b[0m\u001b[0;34m[\u001b[0m\u001b[0mX\u001b[0m\u001b[0;34m.\u001b[0m\u001b[0mshape\u001b[0m\u001b[0;34m[\u001b[0m\u001b[0;36m0\u001b[0m\u001b[0;34m]\u001b[0m\u001b[0;34m,\u001b[0m \u001b[0mout_C\u001b[0m\u001b[0;34m,\u001b[0m \u001b[0mX\u001b[0m\u001b[0;34m.\u001b[0m\u001b[0mshape\u001b[0m\u001b[0;34m[\u001b[0m\u001b[0;36m1\u001b[0m\u001b[0;34m]\u001b[0m\u001b[0;34m/\u001b[0m\u001b[0mout_C\u001b[0m\u001b[0;34m,\u001b[0m \u001b[0mX\u001b[0m\u001b[0;34m.\u001b[0m\u001b[0mshape\u001b[0m\u001b[0;34m[\u001b[0m\u001b[0;36m2\u001b[0m\u001b[0;34m]\u001b[0m\u001b[0;34m]\u001b[0m\u001b[0;34m)\u001b[0m\u001b[0;34m\u001b[0m\u001b[0m\n\u001b[0m\u001b[1;32m     29\u001b[0m     \u001b[0mk\u001b[0m \u001b[0;34m=\u001b[0m \u001b[0;36m0\u001b[0m\u001b[0;34m\u001b[0m\u001b[0m\n\u001b[1;32m     30\u001b[0m     \u001b[0;32mfor\u001b[0m \u001b[0mh\u001b[0m \u001b[0;32min\u001b[0m \u001b[0mrange\u001b[0m\u001b[0;34m(\u001b[0m\u001b[0;36m0\u001b[0m\u001b[0;34m,\u001b[0m \u001b[0mimg\u001b[0m\u001b[0;34m.\u001b[0m\u001b[0mshape\u001b[0m\u001b[0;34m[\u001b[0m\u001b[0;36m2\u001b[0m\u001b[0;34m]\u001b[0m\u001b[0;34m-\u001b[0m\u001b[0mfilter_h\u001b[0m\u001b[0;34m+\u001b[0m\u001b[0;36m1\u001b[0m\u001b[0;34m,\u001b[0m \u001b[0mstride\u001b[0m\u001b[0;34m)\u001b[0m\u001b[0;34m:\u001b[0m\u001b[0;34m\u001b[0m\u001b[0m\n",
      "\u001b[0;31mValueError\u001b[0m: total size of new array must be unchanged"
     ]
    }
   ],
   "source": [
    "import numpy as np\n",
    "X = np.random.random([5,1,10,10])\n",
    "#print(X)\n",
    "w = np.random.random([3,3,1,20])\n",
    "col = im2col(X,w,stride=1, padH=1, padW=1)\n",
    "print(col.shape)\n",
    "img = col2im(col, w, [1,40,50,50])\n",
    "print(img.shape)"
   ]
  },
  {
   "cell_type": "code",
   "execution_count": 135,
   "metadata": {
    "collapsed": false
   },
   "outputs": [
    {
     "name": "stdout",
     "output_type": "stream",
     "text": [
      "[[[[ 0.28879044  0.37086901  0.03752553  0.13725906  0.9837876   0.91849584]\n",
      "   [ 0.49939521  0.107       0.86833885  0.69911543  0.38529969  0.24823558]\n",
      "   [ 0.81534475  0.9658977   0.82562689  0.2832025   0.19396303  0.57435432]\n",
      "   [ 0.37627691  0.58881225  0.90352901  0.56831081  0.6162882   0.92626676]\n",
      "   [ 0.25989764  0.7362692   0.92058804  0.39475474  0.85264035  0.44648256]]]]\n",
      "[[[[ 0.28879044  0.37086901  0.03752553  0.13725906  0.9837876   0.91849584]\n",
      "   [ 0.49939521  0.107       0.86833885  0.69911543  0.38529969  0.24823558]\n",
      "   [ 0.81534475  0.9658977   0.82562689  0.2832025   0.19396303  0.57435432]\n",
      "   [ 0.37627691  0.58881225  0.90352901  0.56831081  0.6162882   0.92626676]\n",
      "   [ 0.25989764  0.7362692   0.92058804  0.39475474  0.85264035  0.44648256]]]]\n"
     ]
    }
   ],
   "source": [
    "print(X)\n",
    "print(img)"
   ]
  }
 ],
 "metadata": {
  "kernelspec": {
   "display_name": "Python 2",
   "language": "python",
   "name": "python2"
  },
  "language_info": {
   "codemirror_mode": {
    "name": "ipython",
    "version": 2
   },
   "file_extension": ".py",
   "mimetype": "text/x-python",
   "name": "python",
   "nbconvert_exporter": "python",
   "pygments_lexer": "ipython2",
   "version": "2.7.15"
  }
 },
 "nbformat": 4,
 "nbformat_minor": 2
}
