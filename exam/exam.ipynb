{
 "cells": [
  {
   "cell_type": "code",
   "execution_count": 49,
   "metadata": {
    "collapsed": true
   },
   "outputs": [],
   "source": [
    "def im2col(X, filter, stride=1, padH=0, padW=0):\n",
    "    N, C, H, W = X.shape\n",
    "    filter_h, filter_w, filter_c, filter_c2 = filter.shape\n",
    "    out_h = (H + 2 * padH - filter_h) // stride + 1\n",
    "    out_w = (W + 2 * padW - filter_w) // stride + 1\n",
    "    img = np.pad(X, [(0, 0), (0, 0), (padH, padH), (padW, padW)], 'constant')\n",
    "    cols = np.zeros([N, C, filter_h * filter_w, out_h * out_w])\n",
    "    for h in range(filter_h):\n",
    "        h_max = h + stride * out_h\n",
    "        for w in range(filter_w):\n",
    "            w_max = w + stride * out_w\n",
    "            crop = img[:, :, h:h_max:stride, w:w_max:stride]\n",
    "            crop = crop.reshape([img.shape[0], img.shape[1], -1])\n",
    "            cols[:, :, h, :] = crop\n",
    "    cols = cols.reshape([cols.shape[0],cols.shape[1] * cols.shape[2], -1])\n",
    "    cols = cols.transpose([0,2,1])\n",
    "    return cols\n",
    "\n",
    "def conv2d(X, filter, padding='valid', stride=1, pad=0):\n",
    "    N, C, H, W = X.shape\n",
    "    filter_h, filter_w, filter_c, filter_c2 = filter.shape\n",
    "    if padding == 'valid':\n",
    "        padH, padW = pad, pad\n",
    "    elif padding == 'same':\n",
    "        padH = ((H - 1) * (stride - 1) + filter_h - 1) // 2\n",
    "        padW = ((W - 1) * (stride - 1) + filter_w - 1) // 2\n",
    "    else:\n",
    "        raise ValueError('padding value error')\n",
    "    \n",
    "    out_h = (H + 2 * padH - filter_h) // stride + 1\n",
    "    out_w = (W + 2 * padW - filter_w) // stride + 1\n",
    "    colX = im2col(X, filter, stride, padH, padW)\n",
    "    print(colX.shape)\n",
    "    colFilter = np.reshape(filter, [-1, filter.shape[3]])\n",
    "    print(colFilter.shape)\n",
    "    y = np.dot(colX, colFilter)\n",
    "    y = np.transpose(y, [0, 2, 1])\n",
    "    print(y.shape)\n",
    "    y = y.reshape([y.shape[0], y.shape[1], out_h, out_w])\n",
    "    \n",
    "    \n",
    "    _w = np.reshape(filter, (filter.shape[0]*filter.shape[1]*filter.shape[2], filter.shape[3]))\n",
    "    print(_w.shape)\n",
    "    _colX = np.expand_dims(colX, 3)\n",
    "    for i in range(_w.shape[1]):\n",
    "        print(i)\n",
    "        _wi = np.expand_dims(_w[:, i], 0)\n",
    "        print('!', np.dot(_colX, _wi).shape)\n",
    "        \n",
    "    #print(_colX.shape)\n",
    "    #print(np.dot(_colX, _w).shape)\n",
    "    \n",
    "    return y\n",
    "    \n",
    "def gradient_check(op, X, w, delta=1e-5):\n",
    "    y1 = op(X, w)\n",
    "    y2 = op(X, w+delta)\n",
    "    print((y2 - y1) / delta)\n",
    "    \n",
    "    "
   ]
  },
  {
   "cell_type": "code",
   "execution_count": 50,
   "metadata": {
    "collapsed": true
   },
   "outputs": [
    {
     "name": "stdout",
     "output_type": "stream",
     "text": [
      "(100, 2500, 27)\n",
      "(27, 64)\n",
      "(100, 64, 2500)\n",
      "(27, 64)\n",
      "0\n",
      "('!', (100, 2500, 27, 27))\n",
      "1\n",
      "('!', (100, 2500, 27, 27))\n",
      "2\n",
      "('!', (100, 2500, 27, 27))\n",
      "3\n",
      "('!', (100, 2500, 27, 27))\n",
      "4\n",
      "('!', (100, 2500, 27, 27))\n",
      "5\n",
      "('!', (100, 2500, 27, 27))\n",
      "6\n",
      "('!', (100, 2500, 27, 27))\n",
      "7\n",
      "('!', (100, 2500, 27, 27))\n",
      "8\n",
      "('!', (100, 2500, 27, 27))\n",
      "9\n",
      "('!', (100, 2500, 27, 27))\n",
      "10\n",
      "('!', (100, 2500, 27, 27))\n",
      "11\n",
      "('!', (100, 2500, 27, 27))\n",
      "12\n",
      "('!', (100, 2500, 27, 27))\n",
      "13\n",
      "('!', (100, 2500, 27, 27))\n",
      "14\n",
      "('!', (100, 2500, 27, 27))\n",
      "15\n",
      "('!', (100, 2500, 27, 27))\n",
      "16\n",
      "('!', (100, 2500, 27, 27))\n",
      "17\n",
      "('!', (100, 2500, 27, 27))\n",
      "18\n",
      "('!', (100, 2500, 27, 27))\n",
      "19\n",
      "('!', (100, 2500, 27, 27))\n",
      "20\n",
      "('!', (100, 2500, 27, 27))\n",
      "21\n",
      "('!', (100, 2500, 27, 27))\n",
      "22\n",
      "('!', (100, 2500, 27, 27))\n",
      "23\n",
      "('!', (100, 2500, 27, 27))\n",
      "24\n",
      "('!', (100, 2500, 27, 27))\n",
      "25\n",
      "('!', (100, 2500, 27, 27))\n",
      "26\n",
      "('!', (100, 2500, 27, 27))\n",
      "27\n",
      "('!', (100, 2500, 27, 27))\n",
      "28\n",
      "('!', (100, 2500, 27, 27))\n",
      "29\n",
      "('!', (100, 2500, 27, 27))\n",
      "30\n",
      "('!', (100, 2500, 27, 27))\n",
      "31\n",
      "('!', (100, 2500, 27, 27))\n",
      "32\n",
      "('!', (100, 2500, 27, 27))\n",
      "33\n",
      "('!', (100, 2500, 27, 27))\n",
      "34\n",
      "('!', (100, 2500, 27, 27))\n",
      "35\n",
      "('!', (100, 2500, 27, 27))\n",
      "36\n",
      "('!', (100, 2500, 27, 27))\n",
      "37\n",
      "('!', (100, 2500, 27, 27))\n",
      "38\n",
      "('!', (100, 2500, 27, 27))\n",
      "39\n",
      "('!', (100, 2500, 27, 27))\n",
      "40\n",
      "('!', (100, 2500, 27, 27))\n",
      "41\n",
      "('!', (100, 2500, 27, 27))\n",
      "42\n",
      "('!', (100, 2500, 27, 27))\n",
      "43\n",
      "('!', (100, 2500, 27, 27))\n",
      "44\n",
      "('!', (100, 2500, 27, 27))\n",
      "45\n",
      "('!', (100, 2500, 27, 27))\n",
      "46\n",
      "('!', (100, 2500, 27, 27))\n",
      "47\n",
      "('!', (100, 2500, 27, 27))\n",
      "48\n",
      "('!', (100, 2500, 27, 27))\n",
      "49\n",
      "('!', (100, 2500, 27, 27))\n",
      "50\n",
      "('!', (100, 2500, 27, 27))\n",
      "51\n",
      "('!', (100, 2500, 27, 27))\n",
      "52\n",
      "('!', (100, 2500, 27, 27))\n",
      "53\n",
      "('!', (100, 2500, 27, 27))\n",
      "54\n",
      "('!', (100, 2500, 27, 27))\n",
      "55\n",
      "('!', (100, 2500, 27, 27))\n",
      "56\n",
      "('!', (100, 2500, 27, 27))\n",
      "57\n",
      "('!', (100, 2500, 27, 27))\n",
      "58\n",
      "('!', (100, 2500, 27, 27))\n",
      "59\n",
      "('!', (100, 2500, 27, 27))\n",
      "60\n",
      "('!', (100, 2500, 27, 27))\n",
      "61\n",
      "('!', (100, 2500, 27, 27))\n",
      "62\n",
      "('!', (100, 2500, 27, 27))\n",
      "63\n",
      "('!', (100, 2500, 27, 27))\n",
      "(100, 64, 50, 50)\n"
     ]
    }
   ],
   "source": [
    "import numpy as np\n",
    "\n",
    "X = np.random.random([100,3,50,50])\n",
    "w = np.random.random([3,3,3,64])\n",
    "#col = im2col2(X,w)\n",
    "y = conv2d(X, w, padding='same')\n",
    "#gradient_check(conv2d, X, w)\n",
    "print(y.shape)"
   ]
  },
  {
   "cell_type": "code",
   "execution_count": 53,
   "metadata": {
    "collapsed": false
   },
   "outputs": [
    {
     "name": "stdout",
     "output_type": "stream",
     "text": [
      "(16L,)\n"
     ]
    }
   ],
   "source": [
    "a = np.random.random([4,4])\n",
    "a = a.flatten()\n",
    "print(a.shape)"
   ]
  },
  {
   "cell_type": "code",
   "execution_count": 31,
   "metadata": {
    "collapsed": false
   },
   "outputs": [
    {
     "name": "stdout",
     "output_type": "stream",
     "text": [
      "(100, 50)\n"
     ]
    }
   ],
   "source": [
    "X = np.random.random([100,3])\n",
    "w = np.random.random([3,50])\n",
    "y = np.dot(X, w)\n",
    "print(y.shape)"
   ]
  },
  {
   "cell_type": "code",
   "execution_count": 42,
   "metadata": {
    "collapsed": true
   },
   "outputs": [],
   "source": [
    "def im2col(X, filter, stride=1, padH=0, padW=0):\n",
    "    N, C, H, W = X.shape\n",
    "    filter_h, filter_w, filter_c, filter_c2 = filter.shape\n",
    "    out_h = (H + 2 * padH - filter_h) // stride + 1\n",
    "    out_w = (W + 2 * padW - filter_w) // stride + 1\n",
    "    img = np.pad(X, [(0, 0), (0, 0), (padH, padH), (padW, padW)], 'constant')\n",
    "    cols = np.zeros([N, C, filter_h * filter_w, out_h * out_w])\n",
    "    for h in range(filter_h):\n",
    "        h_max = h + stride * out_h\n",
    "        for w in range(filter_w):\n",
    "            w_max = w + stride * out_w\n",
    "            crop = img[:, :, h:h_max:stride, w:w_max:stride]\n",
    "            #print(crop)\n",
    "            crop = crop.reshape([img.shape[0], img.shape[1], -1])\n",
    "            cols[:, :, h*filter_w + w, :] = crop\n",
    "    cols = cols.reshape([cols.shape[0],cols.shape[1] * cols.shape[2], -1])\n",
    "    cols = cols.transpose([0,2,1])\n",
    "    return cols\n",
    "\n",
    "\n",
    "def col2im(X, filter, image_size, stride=1):\n",
    "    out_N, out_C, out_H, out_W = image_size\n",
    "    filter_h, filter_w, filter_c, filter_c2 = filter.shape\n",
    "    img = np.zeros(image_size)\n",
    "    weight = np.zeros(image_size)\n",
    "    \n",
    "    X = X.transpose([0,2,1])\n",
    "    X = X.reshape([X.shape[0], out_C, X.shape[1]/out_C, X.shape[2]])\n",
    "    k = 0\n",
    "    for h in range(0, img.shape[2]-filter_h+1, stride):\n",
    "        for w in range(0, img.shape[3]-filter_w+1, stride):\n",
    "            #print(img[:, :, h:h+filter_h, w:w+filter_w].shape)\n",
    "            #print(X[:,:,:,0].shape)\n",
    "            img[:, :, h:h+filter_h, w:w+filter_w] += X[:,:,:,k].reshape([X.shape[0], X.shape[1], filter_h, filter_w])\n",
    "            weight[:, :, h:h+filter_h, w:w+filter_w] += np.ones(([X.shape[0], X.shape[1], filter_h, filter_w]))\n",
    "            k += 1\n",
    "    return img / weight\n",
    "        \n"
   ]
  },
  {
   "cell_type": "code",
   "execution_count": 49,
   "metadata": {
    "collapsed": false
   },
   "outputs": [
    {
     "name": "stdout",
     "output_type": "stream",
     "text": [
      "(5, 400, 18)\n",
      "(5, 2, 10, 10)\n"
     ]
    }
   ],
   "source": [
    "import numpy as np\n",
    "X = np.random.random([5,2,20,20])\n",
    "#print(X)\n",
    "w = np.random.random([3,3,2,20])\n",
    "col = im2col(X,w,stride=1, padH=1, padW=1)\n",
    "print(col.shape)\n",
    "img = col2im(col, w, [5,2,10,10])\n",
    "print(img.shape)"
   ]
  },
  {
   "cell_type": "code",
   "execution_count": 135,
   "metadata": {
    "collapsed": false
   },
   "outputs": [
    {
     "name": "stdout",
     "output_type": "stream",
     "text": [
      "[[[[ 0.28879044  0.37086901  0.03752553  0.13725906  0.9837876   0.91849584]\n",
      "   [ 0.49939521  0.107       0.86833885  0.69911543  0.38529969  0.24823558]\n",
      "   [ 0.81534475  0.9658977   0.82562689  0.2832025   0.19396303  0.57435432]\n",
      "   [ 0.37627691  0.58881225  0.90352901  0.56831081  0.6162882   0.92626676]\n",
      "   [ 0.25989764  0.7362692   0.92058804  0.39475474  0.85264035  0.44648256]]]]\n",
      "[[[[ 0.28879044  0.37086901  0.03752553  0.13725906  0.9837876   0.91849584]\n",
      "   [ 0.49939521  0.107       0.86833885  0.69911543  0.38529969  0.24823558]\n",
      "   [ 0.81534475  0.9658977   0.82562689  0.2832025   0.19396303  0.57435432]\n",
      "   [ 0.37627691  0.58881225  0.90352901  0.56831081  0.6162882   0.92626676]\n",
      "   [ 0.25989764  0.7362692   0.92058804  0.39475474  0.85264035  0.44648256]]]]\n"
     ]
    }
   ],
   "source": [
    "print(X)\n",
    "print(img)"
   ]
  },
  {
   "cell_type": "code",
   "execution_count": 40,
   "metadata": {
    "collapsed": false
   },
   "outputs": [
    {
     "name": "stdout",
     "output_type": "stream",
     "text": [
      "[[[[ 0.68627306  0.41901478  0.29563456  0.71874872  0.30527756]\n",
      "   [ 0.78460288  0.82599646  0.40191859  0.18639563  0.5160578 ]\n",
      "   [ 0.38700714  0.03144271  0.19487395  0.26832222  0.78524844]\n",
      "   [ 0.51920841  0.48273011  0.26155095  0.15793041  0.94398425]\n",
      "   [ 0.50547014  0.32813951  0.98494355  0.43939105  0.85749928]]\n",
      "\n",
      "  [[ 0.96208933  0.66019091  0.24485808  0.16804187  0.1345416 ]\n",
      "   [ 0.82103221  0.8672245   0.32770332  0.01065596  0.56031591]\n",
      "   [ 0.67236371  0.30802875  0.62664525  0.59037074  0.3835034 ]\n",
      "   [ 0.45601298  0.43642314  0.28259094  0.57756424  0.2596144 ]\n",
      "   [ 0.01915446  0.38755293  0.61781941  0.76997788  0.17615115]]]\n",
      "\n",
      "\n",
      " [[[ 0.41176456  0.91390609  0.44109974  0.01542018  0.61801703]\n",
      "   [ 0.17528748  0.50984938  0.79370014  0.85623495  0.03732146]\n",
      "   [ 0.4196113   0.52238052  0.37479398  0.91148155  0.93749422]\n",
      "   [ 0.27868507  0.6541272   0.1439479   0.21757998  0.34983103]\n",
      "   [ 0.95489583  0.65122854  0.55980921  0.84697162  0.70058541]]\n",
      "\n",
      "  [[ 0.35969675  0.18351077  0.98125935  0.81850685  0.22738829]\n",
      "   [ 0.68827865  0.95089966  0.03532367  0.19397148  0.48960701]\n",
      "   [ 0.37483904  0.37631945  0.69974788  0.12537218  0.99388754]\n",
      "   [ 0.59977147  0.36516737  0.65377546  0.35413736  0.32640142]\n",
      "   [ 0.67817598  0.09133899  0.06354431  0.45391067  0.56387129]]]]\n",
      "(2, 2, 5, 5)\n",
      "(2, 2, 5, 5)\n",
      "(2, 4, 8)\n",
      "(16, 4)\n",
      "(16,)\n",
      "(2, 2, 2, 2)\n",
      "[[[[ 0.82599646  0.71874872]\n",
      "   [ 0.51920841  0.26832222]]\n",
      "\n",
      "  [[ 0.96208933  0.32770332]\n",
      "   [ 0.67236371  0.62664525]]]\n",
      "\n",
      "\n",
      " [[[ 0.91390609  0.85623495]\n",
      "   [ 0.6541272   0.91148155]]\n",
      "\n",
      "  [[ 0.95089966  0.98125935]\n",
      "   [ 0.59977147  0.69974788]]]]\n"
     ]
    }
   ],
   "source": [
    "def im2col(X, filter_h, filter_w, stride=1, padH=0, padW=0):\n",
    "    N, C, H, W = X.shape\n",
    "    out_h = (H + 2 * padH - filter_h) // stride + 1\n",
    "    out_w = (W + 2 * padW - filter_w) // stride + 1\n",
    "    img = np.pad(X, [(0, 0), (0, 0), (padH, padH), (padW, padW)], 'constant')\n",
    "    cols = np.zeros([N, C, filter_h * filter_w, out_h * out_w])\n",
    "    for h in range(filter_h):\n",
    "        h_max = h + stride * out_h\n",
    "        for w in range(filter_w):\n",
    "            w_max = w + stride * out_w\n",
    "            crop = img[:, :, h:h_max:stride, w:w_max:stride]\n",
    "            crop = crop.reshape([img.shape[0], img.shape[1], -1])\n",
    "            cols[:, :, h*filter_w+w, :] = crop\n",
    "    cols = cols.reshape([cols.shape[0], cols.shape[1] * cols.shape[2], -1])\n",
    "    cols = cols.transpose([0, 2, 1])\n",
    "    return cols\n",
    "def maxpool(X, filter_h, filter_w, stride=2, pad=0):\n",
    "        print(X.shape)\n",
    "        N, C, H, W = X.shape\n",
    "        padH = padW = pad\n",
    "        out_h = (H + 2 * padH - filter_h) // stride + 1\n",
    "        out_w = (W + 2 * padW - filter_w) // stride + 1\n",
    "        print(X.shape)\n",
    "        X_col = im2col(X, filter_h=filter_h, filter_w=filter_h,\\\n",
    "                       stride=stride, padH=padH, padW=padW)\n",
    "        print(X_col.shape)\n",
    "        X_col = X_col.transpose([0, 2, 1])\n",
    "        X_col = X_col.reshape([X_col.shape[0], C, X_col.shape[1]/C, X_col.shape[2]])\n",
    "        X_col = X_col.reshape([X_col.shape[0]*X_col.shape[1],X_col.shape[2], X_col.shape[3]])\n",
    "        X_col = X_col.transpose([0, 2, 1]).reshape([X_col.shape[0]*X_col.shape[2], X_col.shape[1]])\n",
    "        print(X_col.shape)\n",
    "        '''\n",
    "        print(X_col.shape)\n",
    "        X_col = X_col.reshape([X_col.shape[0]*X_col.shape[1], X_col.shape[2]])\n",
    "        X_col = X_col.reshape([X_col.shape[0], C, X_col.shape[1]/C])\n",
    "        print(X_col.shape)\n",
    "        X_col = X_col.reshape([X_col.shape[0]*X_col.shape[1], X_col.shape[2]])\n",
    "        print(X_col.shape)\n",
    "        '''\n",
    "        max_idx = np.argmax(X_col, axis=1)\n",
    "        print(max_idx.shape)\n",
    "        out = X_col[range(X_col.shape[0]), max_idx]\n",
    "        out = out.reshape([N, C, out_h, out_w])\n",
    "\n",
    "        print(out.shape)\n",
    "        return out\n",
    "\n",
    "\n",
    "import numpy as np\n",
    "a = np.random.random([2,2,5,5])\n",
    "print(a)\n",
    "b = maxpool(a, 2, 2)\n",
    "print(b)\n",
    "\n",
    "\n",
    "\n",
    "\n",
    "\n",
    "\n",
    "\n",
    "\n",
    "\n",
    "\n",
    "\n",
    "\n",
    "\n",
    "\n"
   ]
  },
  {
   "cell_type": "code",
   "execution_count": 55,
   "metadata": {
    "collapsed": false
   },
   "outputs": [
    {
     "name": "stdout",
     "output_type": "stream",
     "text": [
      "[[ 0.   1.   0.3  2. ]]\n"
     ]
    }
   ],
   "source": [
    "a = np.array([[-1,1,0.3,2]])\n",
    "print(np.maximum(0,a))"
   ]
  }
 ],
 "metadata": {
  "kernelspec": {
   "display_name": "Python 2",
   "language": "python",
   "name": "python2"
  },
  "language_info": {
   "codemirror_mode": {
    "name": "ipython",
    "version": 2
   },
   "file_extension": ".py",
   "mimetype": "text/x-python",
   "name": "python",
   "nbconvert_exporter": "python",
   "pygments_lexer": "ipython2",
   "version": "2.7.15"
  }
 },
 "nbformat": 4,
 "nbformat_minor": 2
}
